{
 "cells": [
  {
   "cell_type": "code",
   "execution_count": 1,
   "metadata": {
    "id": "wY3IpJySOeo-"
   },
   "outputs": [],
   "source": [
    "import numpy as np\n",
    "import pandas as pd\n",
    "import matplotlib.pyplot as plt\n",
    "import seaborn as sns; sns.set_theme()\n",
    "import statsmodels.api as sm\n",
    "\n",
    "import warnings\n",
    "warnings.filterwarnings(action = 'ignore')\n",
    "pd.set_option('display.float_format', lambda x: '%.5f' % x)"
   ]
  },
  {
   "cell_type": "markdown",
   "metadata": {
    "id": "g5Wl5QGcWBYL"
   },
   "source": [
    "# Data Collection "
   ]
  },
  {
   "cell_type": "markdown",
   "metadata": {},
   "source": [
    "<hr>\n",
    "\n",
    "## Importing Data\n",
    "The below few code blocks go through the process of extracting the data from WRDS. We have commented out the cells that pull new data from WRDS and instead will read in the data from a csv file for convienence. But by uncommenting the WRDS connection cells, you can retrieve updated data.\n",
    "\n",
    "Data source: [https://wrds-www.wharton.upenn.edu/pages/get-data/center-research-security-prices-crsp/quarterly-update/mutual-funds/fund-summary/](https://wrds-www.wharton.upenn.edu/pages/get-data/center-research-security-prices-crsp/quarterly-update/mutual-funds/fund-summary/)"
   ]
  },
  {
   "cell_type": "code",
   "execution_count": 2,
   "metadata": {
    "colab": {
     "base_uri": "https://localhost:8080/",
     "height": 136
    },
    "id": "2NbvmJ0JOewR",
    "outputId": "c588f875-8b92-4737-8e91-20b08093db33"
   },
   "outputs": [],
   "source": [
    "# import wrds\n",
    "# db = wrds.Connection()\n",
    "# # Enter your credentials.\n",
    "# # Username: <brandonpover>\n",
    "# # Password: <DingoDango2865>\n",
    "# # db.close()"
   ]
  },
  {
   "cell_type": "markdown",
   "metadata": {},
   "source": [
    "**Extract Small-Cap Value Funds' tickers from (crsp_fund_summary)**\n",
    "\n",
    "Small-Cap value funds are designate by lipper_class \"SCVE\""
   ]
  },
  {
   "cell_type": "code",
   "execution_count": 3,
   "metadata": {},
   "outputs": [],
   "source": [
    "# fund_summary = db.raw_sql(\"\"\"SELECT caldt, crsp_fundno, ticker, fund_name, lipper_class_name from crsp.fund_summary2 \n",
    "#                           WHERE lipper_class = 'SCVE'\"\"\", date_cols=['caldt'])"
   ]
  },
  {
   "cell_type": "markdown",
   "metadata": {},
   "source": [
    "**Extract Monthly Return and Monthly Total Net Asset for All Funds from (crsp_q_mutualfunds)**\n",
    "\n",
    "The summary table above only has quarterly info, we snag the monthly returns and total fund assets from the following two databases, then join everything together in one happy dataframe. "
   ]
  },
  {
   "cell_type": "code",
   "execution_count": 4,
   "metadata": {},
   "outputs": [],
   "source": [
    "# fund_return = db.raw_sql('select caldt, crsp_fundno, mret from crsp_q_mutualfunds.monthly_returns;', \n",
    "#                          date_cols=['caldt'])\n",
    "# fund_tna = db.raw_sql('select caldt, crsp_fundno, mtna from crsp_q_mutualfunds.monthly_tna;', \n",
    "#                          date_cols=['caldt'])\n",
    "\n",
    "# ret_tna = pd.merge(fund_return, fund_tna, left_on = ['caldt','crsp_fundno'], right_on = ['caldt','crsp_fundno'])\n",
    "\n",
    "# df = fund_summary.merge(ret_tna, how='left',on=['crsp_fundno'])\n",
    "# df = df.drop(columns=['caldt_x']).rename(columns={\"caldt_y\": \"caldt\"})\n",
    "# df.to_csv(\"cleaned_monthly_small_value_funds.csv\", encoding='utf-8')\n"
   ]
  },
  {
   "cell_type": "markdown",
   "metadata": {},
   "source": [
    "\n",
    "## End of WRDS access\n",
    "<hr>"
   ]
  },
  {
   "cell_type": "markdown",
   "metadata": {},
   "source": [
    "## Read in data and do some brief cleaning:"
   ]
  },
  {
   "cell_type": "markdown",
   "metadata": {},
   "source": [
    "### "
   ]
  },
  {
   "cell_type": "code",
   "execution_count": 5,
   "metadata": {},
   "outputs": [],
   "source": [
    "df = pd.read_csv('cleaned_monthly_small_value_funds.csv')\n",
    "df = df.drop(columns=['Unnamed: 0', 'lipper_class_name'])\n",
    "df.columns = ['fund_num','ticker','fund_name','date','monthly_return','aum']"
   ]
  },
  {
   "cell_type": "markdown",
   "metadata": {},
   "source": [
    "### Date Prepocessing:\n",
    "* Drop rows with that were either missing values for the returns field or the total assets.\n",
    "* Filter out funds that do not have an AUM of at least $1,000,000 and that have not been around for 12 months.\n",
    "* We remove data from before 1975, as the data was extremely messy and we believe contained errors.\n"
   ]
  },
  {
   "cell_type": "code",
   "execution_count": 6,
   "metadata": {
    "id": "mONsIRYgm6VQ"
   },
   "outputs": [
    {
     "data": {
      "text/html": [
       "<div>\n",
       "<style scoped>\n",
       "    .dataframe tbody tr th:only-of-type {\n",
       "        vertical-align: middle;\n",
       "    }\n",
       "\n",
       "    .dataframe tbody tr th {\n",
       "        vertical-align: top;\n",
       "    }\n",
       "\n",
       "    .dataframe thead th {\n",
       "        text-align: right;\n",
       "    }\n",
       "</style>\n",
       "<table border=\"1\" class=\"dataframe\">\n",
       "  <thead>\n",
       "    <tr style=\"text-align: right;\">\n",
       "      <th></th>\n",
       "      <th>fund_num</th>\n",
       "      <th>ticker</th>\n",
       "      <th>fund_name</th>\n",
       "      <th>date</th>\n",
       "      <th>monthly_return</th>\n",
       "      <th>aum</th>\n",
       "      <th>avg_aum</th>\n",
       "      <th>period_count</th>\n",
       "      <th>annualized_return</th>\n",
       "    </tr>\n",
       "  </thead>\n",
       "  <tbody>\n",
       "    <tr>\n",
       "      <th>0</th>\n",
       "      <td>292.00000</td>\n",
       "      <td>CFSVX</td>\n",
       "      <td>CitiFunds Trust II: CitiFunds Small Cap Value ...</td>\n",
       "      <td>1998-04-30</td>\n",
       "      <td>-0.00385</td>\n",
       "      <td>55.46200</td>\n",
       "      <td>24.55297</td>\n",
       "      <td>29</td>\n",
       "      <td>-0.04624</td>\n",
       "    </tr>\n",
       "    <tr>\n",
       "      <th>1</th>\n",
       "      <td>292.00000</td>\n",
       "      <td>CFSVX</td>\n",
       "      <td>CitiFunds Trust II: CitiFunds Small Cap Value ...</td>\n",
       "      <td>1998-05-29</td>\n",
       "      <td>-0.05996</td>\n",
       "      <td>55.57500</td>\n",
       "      <td>24.55297</td>\n",
       "      <td>29</td>\n",
       "      <td>-0.71954</td>\n",
       "    </tr>\n",
       "  </tbody>\n",
       "</table>\n",
       "</div>"
      ],
      "text/plain": [
       "   fund_num ticker                                          fund_name  \\\n",
       "0 292.00000  CFSVX  CitiFunds Trust II: CitiFunds Small Cap Value ...   \n",
       "1 292.00000  CFSVX  CitiFunds Trust II: CitiFunds Small Cap Value ...   \n",
       "\n",
       "        date  monthly_return      aum  avg_aum  period_count  \\\n",
       "0 1998-04-30        -0.00385 55.46200 24.55297            29   \n",
       "1 1998-05-29        -0.05996 55.57500 24.55297            29   \n",
       "\n",
       "   annualized_return  \n",
       "0           -0.04624  \n",
       "1           -0.71954  "
      ]
     },
     "execution_count": 6,
     "metadata": {},
     "output_type": "execute_result"
    }
   ],
   "source": [
    "# Drop NaNs for the return and total net asset columns\n",
    "# df2 = df.dropna(subset = ['monthly_return','aum'])\n",
    "\n",
    "# UnComment out below three lines and comment above if we just decide to interpolate AUMs.\n",
    "\n",
    "df2 = df.dropna(subset = ['monthly_return']) # Drop nas for monthly returns\n",
    "df2['aum'] = df2['aum'].replace(to_replace=0,value=np.nan) # Change 0s to na values so that the below line fixes those too\n",
    "df2['aum'] = df2.aum.interpolate() # Fill in missing AUMs with the average of the closest two dates. \n",
    "\n",
    "df2['date'] = pd.to_datetime(df2['date'])# Convert date to pd datetime\n",
    "df2 = df2[df2['date'].dt.year >= 1975] # Remove periods before 1975\n",
    "\n",
    "df2 = df2.drop_duplicates(subset=['fund_num','date']) # Drop weird duplicates\n",
    "\n",
    "\n",
    "# Only look at funds that have been around for more than a year and average total net asset exceeds 1 million\n",
    "periods_d = df2.groupby('fund_num')[['aum']].agg(['mean', 'count'])\n",
    "periods_d.columns = ['avg_aum','period_count']\n",
    "df2 = df2.merge(periods_d,left_on='fund_num',right_on='fund_num')\n",
    "df2 = df2[(df2.period_count >=12) & (df2.avg_aum >=1)].copy()\n",
    "\n",
    "\n",
    "\n",
    "# Add on a column for annualized returns\n",
    "df2['annualized_return'] = df2['monthly_return'] * 12\n",
    "df2.head(2)"
   ]
  },
  {
   "cell_type": "markdown",
   "metadata": {
    "id": "gHBLsbTEb7Rv"
   },
   "source": [
    "<hr>\n",
    "\n",
    "## Data Exploration:"
   ]
  },
  {
   "cell_type": "markdown",
   "metadata": {},
   "source": [
    "### Scatterplot:\n",
    "Can we see anything by examining a scatterplot of AUM and returns for all funds across all time periods?"
   ]
  },
  {
   "cell_type": "code",
   "execution_count": 7,
   "metadata": {},
   "outputs": [
    {
     "data": {
      "image/png": "[encoded data removed]",
      "text/plain": [
       "<Figure size 1080x504 with 1 Axes>"
      ]
     },
     "metadata": {},
     "output_type": "display_data"
    }
   ],
   "source": [
    "avg_groupby_fund = df2[['fund_num','annualized_return','aum']].groupby('fund_num').mean()\n",
    "avg_groupby_fund = avg_groupby_fund[avg_groupby_fund['annualized_return'] < 12] #remove an outlier\n",
    "\n",
    "fig, (ax) = plt.subplots(nrows = 1, ncols = 1, figsize = (15,7))\n",
    "\n",
    "ax.scatter(avg_groupby_fund['aum'], avg_groupby_fund['annualized_return'], c=avg_groupby_fund.index, alpha=0.5)\n",
    "ax.set_title('Scatter Plot of Annualized Monthly Return and Total Net Asset')\n",
    "ax.set_xlabel('Total Net Assets (Millions)')\n",
    "ax.set_ylabel('Annualized Monthly Returns')\n",
    "plt.show()"
   ]
  },
  {
   "cell_type": "markdown",
   "metadata": {},
   "source": [
    "Not really, there's a lot of noise there. One interesting note here is how the variance of fund performance tends to decrease with asset size. Likely because of diversification."
   ]
  },
  {
   "cell_type": "markdown",
   "metadata": {
    "id": "QPe9q0VzTYPG"
   },
   "source": [
    "## Cumulative Returns"
   ]
  },
  {
   "cell_type": "markdown",
   "metadata": {},
   "source": [
    "**Classify by fund size**\n",
    "\n",
    "We decide to separate each fund into a 3 size categories: small, medium, and large. We make this classification by looking at all of the funds on a particular date and divide the funds into the three categories based on AUM at that date. We do this grouping by each date because we feel the most relevant grouping for this funds is on an inter-period basis. "
   ]
  },
  {
   "cell_type": "code",
   "execution_count": 1,
   "metadata": {},
   "outputs": [
    {
     "ename": "NameError",
     "evalue": "name 'pd' is not defined",
     "output_type": "error",
     "traceback": [
      "\u001b[1;31m---------------------------------------------------------------------------\u001b[0m",
      "\u001b[1;31mNameError\u001b[0m                                 Traceback (most recent call last)",
      "\u001b[1;32m<ipython-input-1-0a5c6993a877>\u001b[0m in \u001b[0;36m<module>\u001b[1;34m\u001b[0m\n\u001b[1;32m----> 1\u001b[1;33m \u001b[0mdf_classes\u001b[0m \u001b[1;33m=\u001b[0m \u001b[0mpd\u001b[0m\u001b[1;33m.\u001b[0m\u001b[0mDataFrame\u001b[0m\u001b[1;33m(\u001b[0m\u001b[1;33m)\u001b[0m\u001b[1;33m\u001b[0m\u001b[1;33m\u001b[0m\u001b[0m\n\u001b[0m\u001b[0;32m      2\u001b[0m \u001b[0mdate_list\u001b[0m \u001b[1;33m=\u001b[0m \u001b[0mdf2\u001b[0m\u001b[1;33m[\u001b[0m\u001b[1;33m[\u001b[0m\u001b[1;34m'date'\u001b[0m\u001b[1;33m]\u001b[0m\u001b[1;33m]\u001b[0m\u001b[1;33m.\u001b[0m\u001b[0mdrop_duplicates\u001b[0m\u001b[1;33m(\u001b[0m\u001b[1;33m)\u001b[0m\u001b[1;33m.\u001b[0m\u001b[0msort_values\u001b[0m\u001b[1;33m(\u001b[0m\u001b[0mby\u001b[0m \u001b[1;33m=\u001b[0m \u001b[1;34m'date'\u001b[0m\u001b[1;33m)\u001b[0m \u001b[1;31m# Unique series of dates\u001b[0m\u001b[1;33m\u001b[0m\u001b[1;33m\u001b[0m\u001b[0m\n\u001b[0;32m      3\u001b[0m \u001b[0msize_labels\u001b[0m\u001b[1;33m=\u001b[0m \u001b[1;33m[\u001b[0m\u001b[1;34m'Small'\u001b[0m\u001b[1;33m,\u001b[0m \u001b[1;34m'Medium'\u001b[0m\u001b[1;33m,\u001b[0m \u001b[1;34m'Large'\u001b[0m\u001b[1;33m]\u001b[0m\u001b[1;33m\u001b[0m\u001b[1;33m\u001b[0m\u001b[0m\n\u001b[0;32m      4\u001b[0m \u001b[1;33m\u001b[0m\u001b[0m\n\u001b[0;32m      5\u001b[0m \u001b[1;31m# Below loop goes through all of the dates and  creates bins for each fund based on its relative position amongst funds of that same date\u001b[0m\u001b[1;33m\u001b[0m\u001b[1;33m\u001b[0m\u001b[1;33m\u001b[0m\u001b[0m\n",
      "\u001b[1;31mNameError\u001b[0m: name 'pd' is not defined"
     ]
    }
   ],
   "source": [
    "df_classes = pd.DataFrame()\n",
    "date_list = df2[['date']].drop_duplicates().sort_values(by = 'date') # Unique series of dates \n",
    "size_labels= ['Small', 'Medium', 'Large']\n",
    "\n",
    "# Below loop goes through all of the dates and  creates bins for each fund based on its relative position amongst funds of that same date\n",
    "for date in date_list['date']:\n",
    "    filtered_df = df2[df2['date'] == date] # Filter df by that date\n",
    "    filtered_df['class'] = pd.cut(filtered_df.aum.rank(pct=True), len(size_labels), labels=size_labels) # Get bins for aums for that date\n",
    "    df_classes = pd.concat([df_classes, filtered_df], axis=0) # Concat them into our master data frame\n",
    "\n",
    "df_classes.head(2)"
   ]
  },
  {
   "cell_type": "markdown",
   "metadata": {},
   "source": [
    "For each date, get the average return for that fund size:"
   ]
  },
  {
   "cell_type": "code",
   "execution_count": 9,
   "metadata": {},
   "outputs": [
    {
     "data": {
      "text/html": [
       "<div>\n",
       "<style scoped>\n",
       "    .dataframe tbody tr th:only-of-type {\n",
       "        vertical-align: middle;\n",
       "    }\n",
       "\n",
       "    .dataframe tbody tr th {\n",
       "        vertical-align: top;\n",
       "    }\n",
       "\n",
       "    .dataframe thead tr th {\n",
       "        text-align: left;\n",
       "    }\n",
       "\n",
       "    .dataframe thead tr:last-of-type th {\n",
       "        text-align: right;\n",
       "    }\n",
       "</style>\n",
       "<table border=\"1\" class=\"dataframe\">\n",
       "  <thead>\n",
       "    <tr>\n",
       "      <th></th>\n",
       "      <th colspan=\"3\" halign=\"left\">monthly_return</th>\n",
       "    </tr>\n",
       "    <tr>\n",
       "      <th>class</th>\n",
       "      <th>Small</th>\n",
       "      <th>Medium</th>\n",
       "      <th>Large</th>\n",
       "    </tr>\n",
       "    <tr>\n",
       "      <th>date</th>\n",
       "      <th></th>\n",
       "      <th></th>\n",
       "      <th></th>\n",
       "    </tr>\n",
       "  </thead>\n",
       "  <tbody>\n",
       "    <tr>\n",
       "      <th>1975-01-31</th>\n",
       "      <td>0.22824</td>\n",
       "      <td>0.01814</td>\n",
       "      <td>0.07196</td>\n",
       "    </tr>\n",
       "    <tr>\n",
       "      <th>1975-02-28</th>\n",
       "      <td>0.12347</td>\n",
       "      <td>0.02339</td>\n",
       "      <td>0.05124</td>\n",
       "    </tr>\n",
       "    <tr>\n",
       "      <th>1975-03-31</th>\n",
       "      <td>0.04683</td>\n",
       "      <td>0.05114</td>\n",
       "      <td>0.01459</td>\n",
       "    </tr>\n",
       "  </tbody>\n",
       "</table>\n",
       "</div>"
      ],
      "text/plain": [
       "           monthly_return                \n",
       "class               Small  Medium   Large\n",
       "date                                     \n",
       "1975-01-31        0.22824 0.01814 0.07196\n",
       "1975-02-28        0.12347 0.02339 0.05124\n",
       "1975-03-31        0.04683 0.05114 0.01459"
      ]
     },
     "execution_count": 9,
     "metadata": {},
     "output_type": "execute_result"
    }
   ],
   "source": [
    "avg_returns_by_class = df_classes.groupby(['date','class'])[['monthly_return']].mean().unstack('class')\n",
    "avg_returns_by_class.head(3)"
   ]
  },
  {
   "cell_type": "markdown",
   "metadata": {},
   "source": [
    "Now we can examine the cumulative returns of each fund size by examining how an investment in an average fund would turn out for each category: "
   ]
  },
  {
   "cell_type": "code",
   "execution_count": 10,
   "metadata": {},
   "outputs": [
    {
     "data": {
      "text/plain": [
       "Text(0, 0.5, 'Dollars')"
      ]
     },
     "execution_count": 10,
     "metadata": {},
     "output_type": "execute_result"
    },
    {
     "data": {
      "image/png": "[encoded data removed]",
      "text/plain": [
       "<Figure size 1080x576 with 1 Axes>"
      ]
     },
     "metadata": {},
     "output_type": "display_data"
    }
   ],
   "source": [
    "cumulative_retuns = (avg_returns_by_class+1).cumprod()['monthly_return']\n",
    "cumulative_retuns.plot(figsize=(15,8))\n",
    "\n",
    "plt.title('CRSP - Cumulative Return of $1 Investment')\n",
    "plt.xlabel('Date')\n",
    "plt.ylabel('Dollars')"
   ]
  },
  {
   "cell_type": "code",
   "execution_count": 11,
   "metadata": {},
   "outputs": [
    {
     "name": "stdout",
     "output_type": "stream",
     "text": [
      "$1 consistently invested in the average small fund from 1975 to 2021 (as of June) would generate an additional $300.08 in  gains relative to the amount gained by investing $1 in the average large fund.\n"
     ]
    }
   ],
   "source": [
    "small_minus_big = cumulative_retuns.Small.iloc[-1] - cumulative_retuns.Large.iloc[-1]\n",
    "\n",
    "print(f'$1 consistently invested in the average small fund from 1975 to 2021 (as of June) would generate an additional ${small_minus_big:.2f} in \\\n",
    " gains relative to the amount gained by investing $1 in the average large fund.')"
   ]
  },
  {
   "cell_type": "markdown",
   "metadata": {},
   "source": [
    "Base on the above results, it appears that investing in smaller funds will lead to higher long-term returns."
   ]
  },
  {
   "cell_type": "markdown",
   "metadata": {},
   "source": [
    "<hr>\n",
    "\n",
    "## Summary Statistics:\n",
    "\n",
    "But we know that simply looking at cumulative returns is an incomplete measure of fund success so let's examine the data in further detail, with the goal of examining not only returns, but risk as well:"
   ]
  },
  {
   "cell_type": "code",
   "execution_count": 12,
   "metadata": {},
   "outputs": [
    {
     "data": {
      "text/html": [
       "<div>\n",
       "<style scoped>\n",
       "    .dataframe tbody tr th:only-of-type {\n",
       "        vertical-align: middle;\n",
       "    }\n",
       "\n",
       "    .dataframe tbody tr th {\n",
       "        vertical-align: top;\n",
       "    }\n",
       "\n",
       "    .dataframe thead th {\n",
       "        text-align: right;\n",
       "    }\n",
       "</style>\n",
       "<table border=\"1\" class=\"dataframe\">\n",
       "  <thead>\n",
       "    <tr style=\"text-align: right;\">\n",
       "      <th></th>\n",
       "      <th>count</th>\n",
       "      <th>mean</th>\n",
       "      <th>std</th>\n",
       "      <th>min</th>\n",
       "      <th>25%</th>\n",
       "      <th>50%</th>\n",
       "      <th>75%</th>\n",
       "      <th>max</th>\n",
       "    </tr>\n",
       "    <tr>\n",
       "      <th>class</th>\n",
       "      <th></th>\n",
       "      <th></th>\n",
       "      <th></th>\n",
       "      <th></th>\n",
       "      <th></th>\n",
       "      <th></th>\n",
       "      <th></th>\n",
       "      <th></th>\n",
       "    </tr>\n",
       "  </thead>\n",
       "  <tbody>\n",
       "    <tr>\n",
       "      <th>Small</th>\n",
       "      <td>64739.00000</td>\n",
       "      <td>0.01045</td>\n",
       "      <td>0.43534</td>\n",
       "      <td>-0.87716</td>\n",
       "      <td>-0.01980</td>\n",
       "      <td>0.01338</td>\n",
       "      <td>0.04114</td>\n",
       "      <td>109.78472</td>\n",
       "    </tr>\n",
       "    <tr>\n",
       "      <th>Medium</th>\n",
       "      <td>63030.00000</td>\n",
       "      <td>0.00906</td>\n",
       "      <td>0.06821</td>\n",
       "      <td>-0.87779</td>\n",
       "      <td>-0.01967</td>\n",
       "      <td>0.01363</td>\n",
       "      <td>0.04116</td>\n",
       "      <td>9.31267</td>\n",
       "    </tr>\n",
       "    <tr>\n",
       "      <th>Large</th>\n",
       "      <td>63231.00000</td>\n",
       "      <td>0.00922</td>\n",
       "      <td>0.05589</td>\n",
       "      <td>-0.35351</td>\n",
       "      <td>-0.01859</td>\n",
       "      <td>0.01388</td>\n",
       "      <td>0.04067</td>\n",
       "      <td>2.13493</td>\n",
       "    </tr>\n",
       "  </tbody>\n",
       "</table>\n",
       "</div>"
      ],
      "text/plain": [
       "             count    mean     std      min      25%     50%     75%       max\n",
       "class                                                                         \n",
       "Small  64739.00000 0.01045 0.43534 -0.87716 -0.01980 0.01338 0.04114 109.78472\n",
       "Medium 63030.00000 0.00906 0.06821 -0.87779 -0.01967 0.01363 0.04116   9.31267\n",
       "Large  63231.00000 0.00922 0.05589 -0.35351 -0.01859 0.01388 0.04067   2.13493"
      ]
     },
     "execution_count": 12,
     "metadata": {},
     "output_type": "execute_result"
    }
   ],
   "source": [
    "df_classes.groupby('class')['monthly_return'].describe()"
   ]
  },
  {
   "cell_type": "markdown",
   "metadata": {},
   "source": [
    "Again we note that smaller funds do have higher average performance, but of note here is their standard deviation, is substantially higher than both medium and larger funds. This is an important consideration to keep in mind because although the average small cap fund may perform better, the dispersion of those results is much higher than larger funds and if you choose the wrong fund in the wrong period, your performance may be dramatically different than the average.\n",
    "\n",
    "<br>\n",
    "\n",
    "That being said, we do not believe that the standard deviation is the best measure of risk for this analysis. Standard deviation is substantially influenced by outliers and as the above table depicts, smaller funds are penalized for their extreme positive outliers, such as the maximum return of 10,900% for one month. This value may be a data error or it could be legitimate. Regardless, we have decided to use the mean absolute deviation as our measure for risk as it is var less sensitive to extreme values. In the below output displaying the MADS for each fund size, you can see that the MAD is still higher for smaller funds, but the change is not so dramatic."
   ]
  },
  {
   "cell_type": "code",
   "execution_count": 13,
   "metadata": {},
   "outputs": [
    {
     "data": {
      "text/plain": [
       "class\n",
       "Small    0.04310\n",
       "Medium   0.04119\n",
       "Large    0.03999\n",
       "Name: monthly_return, dtype: float64"
      ]
     },
     "execution_count": 13,
     "metadata": {},
     "output_type": "execute_result"
    }
   ],
   "source": [
    "df_classes.groupby('class')['monthly_return'].mad()"
   ]
  },
  {
   "cell_type": "markdown",
   "metadata": {},
   "source": [
    "## Bar Plots Depicting Summary Statistics: Means, MAD, and Sharpe Ratio (MAD version)"
   ]
  },
  {
   "cell_type": "code",
   "execution_count": 14,
   "metadata": {},
   "outputs": [
    {
     "data": {
      "image/png": "[encoded data removed]",
      "text/plain": [
       "<Figure size 432x288 with 1 Axes>"
      ]
     },
     "metadata": {},
     "output_type": "display_data"
    }
   ],
   "source": [
    "sns.barplot(data=df_classes,x='class',y='monthly_return')\n",
    "plt.title('Average Monthly Return')\n",
    "plt.ylabel('Return');"
   ]
  },
  {
   "cell_type": "code",
   "execution_count": 15,
   "metadata": {},
   "outputs": [
    {
     "data": {
      "image/png": "[encoded data removed]",
      "text/plain": [
       "<Figure size 432x288 with 1 Axes>"
      ]
     },
     "metadata": {},
     "output_type": "display_data"
    }
   ],
   "source": [
    "from numpy import mean, absolute\n",
    "def my_mad(data, axis=None):\n",
    "    return mean(absolute(data - mean(data, axis)), axis)\n",
    "\n",
    "sns.barplot(data=df_classes,x='class',y='monthly_return',estimator=my_mad)\n",
    "plt.title('Mean Absolute Deviation');\n",
    "plt.ylabel('Return Deviation');"
   ]
  },
  {
   "cell_type": "markdown",
   "metadata": {},
   "source": [
    "#### Return per unit of risk:\n",
    "Below we depict our adjusted sharpe ratio for each fund size where our sharpe ratio is calculated as the mean return divided by the MAD. "
   ]
  },
  {
   "cell_type": "code",
   "execution_count": 16,
   "metadata": {
    "scrolled": false
   },
   "outputs": [
    {
     "data": {
      "image/png": "[encoded data removed]",
      "text/plain": [
       "<Figure size 432x288 with 1 Axes>"
      ]
     },
     "metadata": {},
     "output_type": "display_data"
    }
   ],
   "source": [
    "temp = (df_classes.groupby('class')[['monthly_return']].mean()/df_classes.groupby('class')[['monthly_return']].mad()).reset_index()\n",
    "sns.barplot(data=temp, y='monthly_return',x='class')\n",
    "plt.ylabel('')\n",
    "plt.title('Sharpe Ratio');"
   ]
  },
  {
   "cell_type": "markdown",
   "metadata": {},
   "source": [
    "It looks like the smaller funds continue to dominate, even when adjusting performance for risk."
   ]
  },
  {
   "cell_type": "markdown",
   "metadata": {},
   "source": [
    "<hr>"
   ]
  },
  {
   "cell_type": "markdown",
   "metadata": {},
   "source": [
    "## Regression\n",
    "\n",
    "To add some statistical rigor to the analysis, we perform a regression based on the following equation:\n",
    "\n",
    "$$ MonthlyReturn_i = \\beta_0 + Small_i*\\beta_1 + Medium_i*\\beta_2$$ "
   ]
  },
  {
   "cell_type": "markdown",
   "metadata": {},
   "source": [
    "Add on dummy variables to indicate fund size:"
   ]
  },
  {
   "cell_type": "code",
   "execution_count": 17,
   "metadata": {},
   "outputs": [
    {
     "data": {
      "text/html": [
       "<div>\n",
       "<style scoped>\n",
       "    .dataframe tbody tr th:only-of-type {\n",
       "        vertical-align: middle;\n",
       "    }\n",
       "\n",
       "    .dataframe tbody tr th {\n",
       "        vertical-align: top;\n",
       "    }\n",
       "\n",
       "    .dataframe thead th {\n",
       "        text-align: right;\n",
       "    }\n",
       "</style>\n",
       "<table border=\"1\" class=\"dataframe\">\n",
       "  <thead>\n",
       "    <tr style=\"text-align: right;\">\n",
       "      <th></th>\n",
       "      <th>fund_num</th>\n",
       "      <th>ticker</th>\n",
       "      <th>fund_name</th>\n",
       "      <th>date</th>\n",
       "      <th>monthly_return</th>\n",
       "      <th>aum</th>\n",
       "      <th>avg_aum</th>\n",
       "      <th>period_count</th>\n",
       "      <th>annualized_return</th>\n",
       "      <th>class</th>\n",
       "      <th>Small</th>\n",
       "      <th>Medium</th>\n",
       "      <th>Large</th>\n",
       "    </tr>\n",
       "  </thead>\n",
       "  <tbody>\n",
       "    <tr>\n",
       "      <th>24296</th>\n",
       "      <td>8124.00000</td>\n",
       "      <td>WFAGX</td>\n",
       "      <td>DLJ Winthrop Focus Funds: DLJ Winthrop Small C...</td>\n",
       "      <td>1975-01-31</td>\n",
       "      <td>0.08654</td>\n",
       "      <td>15.50100</td>\n",
       "      <td>97.51740</td>\n",
       "      <td>457</td>\n",
       "      <td>1.03846</td>\n",
       "      <td>Large</td>\n",
       "      <td>0</td>\n",
       "      <td>0</td>\n",
       "      <td>1</td>\n",
       "    </tr>\n",
       "    <tr>\n",
       "      <th>49067</th>\n",
       "      <td>10960.00000</td>\n",
       "      <td>FPPTX</td>\n",
       "      <td>FPA Capital Fund, Inc</td>\n",
       "      <td>1975-01-31</td>\n",
       "      <td>0.05738</td>\n",
       "      <td>46.36100</td>\n",
       "      <td>563.49400</td>\n",
       "      <td>553</td>\n",
       "      <td>0.68852</td>\n",
       "      <td>Large</td>\n",
       "      <td>0</td>\n",
       "      <td>0</td>\n",
       "      <td>1</td>\n",
       "    </tr>\n",
       "  </tbody>\n",
       "</table>\n",
       "</div>"
      ],
      "text/plain": [
       "         fund_num ticker                                          fund_name  \\\n",
       "24296  8124.00000  WFAGX  DLJ Winthrop Focus Funds: DLJ Winthrop Small C...   \n",
       "49067 10960.00000  FPPTX                              FPA Capital Fund, Inc   \n",
       "\n",
       "            date  monthly_return      aum   avg_aum  period_count  \\\n",
       "24296 1975-01-31         0.08654 15.50100  97.51740           457   \n",
       "49067 1975-01-31         0.05738 46.36100 563.49400           553   \n",
       "\n",
       "       annualized_return  class  Small  Medium  Large  \n",
       "24296            1.03846  Large      0       0      1  \n",
       "49067            0.68852  Large      0       0      1  "
      ]
     },
     "execution_count": 17,
     "metadata": {},
     "output_type": "execute_result"
    }
   ],
   "source": [
    "one_hot = pd.get_dummies(df_classes['class'])\n",
    "df_regression= df_classes.join(one_hot)\n",
    "df_regression.head(2)"
   ]
  },
  {
   "cell_type": "code",
   "execution_count": 18,
   "metadata": {},
   "outputs": [
    {
     "name": "stdout",
     "output_type": "stream",
     "text": [
      "                            OLS Regression Results                            \n",
      "==============================================================================\n",
      "Dep. Variable:         monthly_return   R-squared:                       0.000\n",
      "Model:                            OLS   Adj. R-squared:                 -0.000\n",
      "Method:                 Least Squares   F-statistic:                    0.5571\n",
      "Date:                Sun, 17 Oct 2021   Prob (F-statistic):              0.573\n",
      "Time:                        13:55:34   Log-Likelihood:                -12597.\n",
      "No. Observations:              191000   AIC:                         2.520e+04\n",
      "Df Residuals:                  190997   BIC:                         2.523e+04\n",
      "Df Model:                           2                                         \n",
      "Covariance Type:            nonrobust                                         \n",
      "==============================================================================\n",
      "                 coef    std err          t      P>|t|      [0.025      0.975]\n",
      "------------------------------------------------------------------------------\n",
      "const          0.0092      0.001      8.969      0.000       0.007       0.011\n",
      "Small          0.0012      0.001      0.853      0.393      -0.002       0.004\n",
      "Medium        -0.0002      0.001     -0.108      0.914      -0.003       0.003\n",
      "===============================================================================\n",
      "Omnibus:                  1130225.784   Durbin-Watson:                    1.912\n",
      "Prob(Omnibus):                  0.000   Jarque-Bera (JB):   230970015129517.219\n",
      "Skew:                         401.342   Prob(JB):                          0.00\n",
      "Kurtosis:                  170360.759   Cond. No.                          3.74\n",
      "===============================================================================\n",
      "\n",
      "Notes:\n",
      "[1] Standard Errors assume that the covariance matrix of the errors is correctly specified.\n"
     ]
    }
   ],
   "source": [
    "X = df_regression[['Small','Medium']]\n",
    "y = df_regression['monthly_return']\n",
    "\n",
    "X = sm.add_constant(X)\n",
    "model = sm.OLS(y,X)\n",
    "\n",
    "result = model.fit()\n",
    "print(result.summary())"
   ]
  },
  {
   "cell_type": "markdown",
   "metadata": {},
   "source": [
    "The results above do not lend much support to the small-fund premium hypothesis. Neither the small-fund nor the medium-fund coefficients are significant at the 5% threshold. While the small-fund result does exhibity a positive coefficient, the variability mean we cannot state this result is not simply due to chance or noise in the data. "
   ]
  },
  {
   "cell_type": "markdown",
   "metadata": {},
   "source": [
    "# Inter-Temporal Size Affect"
   ]
  },
  {
   "cell_type": "markdown",
   "metadata": {},
   "source": [
    "Before, we were looking at each individual monthly return as a distinct, independent unit, but we would now like to analyze funds by exploring if a fund's performance changes when its returns are categorized into two relative sizes based on the fund's AUM across its life. That will allow us to compare the average return of the fund when it was 'larger' vs the average return when the fund was 'smaller'. We can then aggregate those numbers across all funds to understand the big picture:"
   ]
  },
  {
   "cell_type": "markdown",
   "metadata": {},
   "source": [
    "Because we are trying to compare a fund's performance when it was smaller vs larger, we only consider funds where the AUM has changed by a certain threshold. It would not make sense to classify a fund into 'smaller' and 'bigger' if the AUM in 'bigger' was only marginally bigger than the AUM of 'smaller'. In this case, we only examine funds that have had a maximum AUM of 500% greater than the minimum AUM."
   ]
  },
  {
   "cell_type": "markdown",
   "metadata": {},
   "source": [
    "Below, we get each fund's 'growth multiple' which is simply the funds (maximum AUM/ Minimum AUM). Afterwards we filter our all funds that have not changed by the chosen threshold."
   ]
  },
  {
   "cell_type": "code",
   "execution_count": 19,
   "metadata": {},
   "outputs": [],
   "source": [
    "def get_fund_growth_multiple(series:pd.Series):\n",
    "    return series.max()/series.min()"
   ]
  },
  {
   "cell_type": "code",
   "execution_count": 20,
   "metadata": {},
   "outputs": [
    {
     "data": {
      "text/html": [
       "<div>\n",
       "<style scoped>\n",
       "    .dataframe tbody tr th:only-of-type {\n",
       "        vertical-align: middle;\n",
       "    }\n",
       "\n",
       "    .dataframe tbody tr th {\n",
       "        vertical-align: top;\n",
       "    }\n",
       "\n",
       "    .dataframe thead th {\n",
       "        text-align: right;\n",
       "    }\n",
       "</style>\n",
       "<table border=\"1\" class=\"dataframe\">\n",
       "  <thead>\n",
       "    <tr style=\"text-align: right;\">\n",
       "      <th></th>\n",
       "      <th>growth_multiples</th>\n",
       "    </tr>\n",
       "    <tr>\n",
       "      <th>fund_num</th>\n",
       "      <th></th>\n",
       "    </tr>\n",
       "  </thead>\n",
       "  <tbody>\n",
       "    <tr>\n",
       "      <th>292.00000</th>\n",
       "      <td>9.58190</td>\n",
       "    </tr>\n",
       "    <tr>\n",
       "      <th>479.00000</th>\n",
       "      <td>4.31917</td>\n",
       "    </tr>\n",
       "  </tbody>\n",
       "</table>\n",
       "</div>"
      ],
      "text/plain": [
       "           growth_multiples\n",
       "fund_num                   \n",
       "292.00000           9.58190\n",
       "479.00000           4.31917"
      ]
     },
     "execution_count": 20,
     "metadata": {},
     "output_type": "execute_result"
    }
   ],
   "source": [
    "growth_multiples = df_classes.groupby('fund_num')[['aum']].aggregate(get_fund_growth_multiple)\n",
    "growth_multiples.columns = ['growth_multiples']\n",
    "growth_multiples.head(2)"
   ]
  },
  {
   "cell_type": "code",
   "execution_count": 21,
   "metadata": {},
   "outputs": [
    {
     "data": {
      "text/html": [
       "<div>\n",
       "<style scoped>\n",
       "    .dataframe tbody tr th:only-of-type {\n",
       "        vertical-align: middle;\n",
       "    }\n",
       "\n",
       "    .dataframe tbody tr th {\n",
       "        vertical-align: top;\n",
       "    }\n",
       "\n",
       "    .dataframe thead th {\n",
       "        text-align: right;\n",
       "    }\n",
       "</style>\n",
       "<table border=\"1\" class=\"dataframe\">\n",
       "  <thead>\n",
       "    <tr style=\"text-align: right;\">\n",
       "      <th></th>\n",
       "      <th>fund_num</th>\n",
       "      <th>ticker</th>\n",
       "      <th>fund_name</th>\n",
       "      <th>date</th>\n",
       "      <th>monthly_return</th>\n",
       "      <th>aum</th>\n",
       "      <th>avg_aum</th>\n",
       "      <th>period_count</th>\n",
       "      <th>annualized_return</th>\n",
       "      <th>class</th>\n",
       "      <th>growth_multiples</th>\n",
       "    </tr>\n",
       "  </thead>\n",
       "  <tbody>\n",
       "    <tr>\n",
       "      <th>0</th>\n",
       "      <td>8124.00000</td>\n",
       "      <td>WFAGX</td>\n",
       "      <td>DLJ Winthrop Focus Funds: DLJ Winthrop Small C...</td>\n",
       "      <td>1975-01-31</td>\n",
       "      <td>0.08654</td>\n",
       "      <td>15.50100</td>\n",
       "      <td>97.51740</td>\n",
       "      <td>457</td>\n",
       "      <td>1.03846</td>\n",
       "      <td>Large</td>\n",
       "      <td>28.04277</td>\n",
       "    </tr>\n",
       "    <tr>\n",
       "      <th>1</th>\n",
       "      <td>8124.00000</td>\n",
       "      <td>WFAGX</td>\n",
       "      <td>DLJ Winthrop Focus Funds: DLJ Winthrop Small C...</td>\n",
       "      <td>1975-02-28</td>\n",
       "      <td>0.05752</td>\n",
       "      <td>17.71800</td>\n",
       "      <td>97.51740</td>\n",
       "      <td>457</td>\n",
       "      <td>0.69027</td>\n",
       "      <td>Large</td>\n",
       "      <td>28.04277</td>\n",
       "    </tr>\n",
       "  </tbody>\n",
       "</table>\n",
       "</div>"
      ],
      "text/plain": [
       "    fund_num ticker                                          fund_name  \\\n",
       "0 8124.00000  WFAGX  DLJ Winthrop Focus Funds: DLJ Winthrop Small C...   \n",
       "1 8124.00000  WFAGX  DLJ Winthrop Focus Funds: DLJ Winthrop Small C...   \n",
       "\n",
       "        date  monthly_return      aum  avg_aum  period_count  \\\n",
       "0 1975-01-31         0.08654 15.50100 97.51740           457   \n",
       "1 1975-02-28         0.05752 17.71800 97.51740           457   \n",
       "\n",
       "   annualized_return  class  growth_multiples  \n",
       "0            1.03846  Large          28.04277  \n",
       "1            0.69027  Large          28.04277  "
      ]
     },
     "execution_count": 21,
     "metadata": {},
     "output_type": "execute_result"
    }
   ],
   "source": [
    "growth_threshold = 6\n",
    "\n",
    "df_multiples = df_classes.merge(growth_multiples,left_on='fund_num',right_on='fund_num')\n",
    "df_growers = df_multiples[df_multiples.growth_multiples >= growth_threshold] # Grown by at least 500%%\n",
    "df_growers.head(2)"
   ]
  },
  {
   "cell_type": "markdown",
   "metadata": {},
   "source": [
    "Below, we create the approporiate segments for each fund: Group by each fund and segment the returns into 'smaller' or 'bigger'."
   ]
  },
  {
   "cell_type": "code",
   "execution_count": 22,
   "metadata": {},
   "outputs": [
    {
     "data": {
      "text/html": [
       "<div>\n",
       "<style scoped>\n",
       "    .dataframe tbody tr th:only-of-type {\n",
       "        vertical-align: middle;\n",
       "    }\n",
       "\n",
       "    .dataframe tbody tr th {\n",
       "        vertical-align: top;\n",
       "    }\n",
       "\n",
       "    .dataframe thead th {\n",
       "        text-align: right;\n",
       "    }\n",
       "</style>\n",
       "<table border=\"1\" class=\"dataframe\">\n",
       "  <thead>\n",
       "    <tr style=\"text-align: right;\">\n",
       "      <th></th>\n",
       "      <th>fund_num</th>\n",
       "      <th>ticker</th>\n",
       "      <th>fund_name</th>\n",
       "      <th>date</th>\n",
       "      <th>monthly_return</th>\n",
       "      <th>aum</th>\n",
       "      <th>avg_aum</th>\n",
       "      <th>period_count</th>\n",
       "      <th>annualized_return</th>\n",
       "      <th>class</th>\n",
       "      <th>growth_multiples</th>\n",
       "      <th>inter_temporal_size</th>\n",
       "    </tr>\n",
       "  </thead>\n",
       "  <tbody>\n",
       "    <tr>\n",
       "      <th>71992</th>\n",
       "      <td>292.00000</td>\n",
       "      <td>CFSVX</td>\n",
       "      <td>CitiFunds Trust II: CitiFunds Small Cap Value ...</td>\n",
       "      <td>1998-04-30</td>\n",
       "      <td>-0.00385</td>\n",
       "      <td>55.46200</td>\n",
       "      <td>24.55297</td>\n",
       "      <td>29</td>\n",
       "      <td>-0.04624</td>\n",
       "      <td>Medium</td>\n",
       "      <td>9.58190</td>\n",
       "      <td>bigger</td>\n",
       "    </tr>\n",
       "    <tr>\n",
       "      <th>71993</th>\n",
       "      <td>292.00000</td>\n",
       "      <td>CFSVX</td>\n",
       "      <td>CitiFunds Trust II: CitiFunds Small Cap Value ...</td>\n",
       "      <td>1998-05-29</td>\n",
       "      <td>-0.05996</td>\n",
       "      <td>55.57500</td>\n",
       "      <td>24.55297</td>\n",
       "      <td>29</td>\n",
       "      <td>-0.71954</td>\n",
       "      <td>Medium</td>\n",
       "      <td>9.58190</td>\n",
       "      <td>bigger</td>\n",
       "    </tr>\n",
       "  </tbody>\n",
       "</table>\n",
       "</div>"
      ],
      "text/plain": [
       "       fund_num ticker                                          fund_name  \\\n",
       "71992 292.00000  CFSVX  CitiFunds Trust II: CitiFunds Small Cap Value ...   \n",
       "71993 292.00000  CFSVX  CitiFunds Trust II: CitiFunds Small Cap Value ...   \n",
       "\n",
       "            date  monthly_return      aum  avg_aum  period_count  \\\n",
       "71992 1998-04-30        -0.00385 55.46200 24.55297            29   \n",
       "71993 1998-05-29        -0.05996 55.57500 24.55297            29   \n",
       "\n",
       "       annualized_return   class  growth_multiples inter_temporal_size  \n",
       "71992           -0.04624  Medium           9.58190              bigger  \n",
       "71993           -0.71954  Medium           9.58190              bigger  "
      ]
     },
     "execution_count": 22,
     "metadata": {},
     "output_type": "execute_result"
    }
   ],
   "source": [
    "aggregated_df:pd.DataFrame = pd.DataFrame() # Master dataframe that will be populated in the below for loop.\n",
    "\n",
    "group_by_name = df_growers.groupby('fund_num')\n",
    "group_size_labels = ['smaller','bigger']\n",
    "\n",
    "for name, group in group_by_name:\n",
    "    group['inter_temporal_size'] = pd.cut(group.aum,bins=len(group_size_labels), labels=group_size_labels)\n",
    "    aggregated_df = pd.concat([aggregated_df,group])\n",
    "\n",
    "aggregated_df.head(2)"
   ]
  },
  {
   "cell_type": "markdown",
   "metadata": {},
   "source": [
    "## Results: "
   ]
  },
  {
   "cell_type": "code",
   "execution_count": 23,
   "metadata": {},
   "outputs": [
    {
     "data": {
      "text/html": [
       "<div>\n",
       "<style scoped>\n",
       "    .dataframe tbody tr th:only-of-type {\n",
       "        vertical-align: middle;\n",
       "    }\n",
       "\n",
       "    .dataframe tbody tr th {\n",
       "        vertical-align: top;\n",
       "    }\n",
       "\n",
       "    .dataframe thead th {\n",
       "        text-align: right;\n",
       "    }\n",
       "</style>\n",
       "<table border=\"1\" class=\"dataframe\">\n",
       "  <thead>\n",
       "    <tr style=\"text-align: right;\">\n",
       "      <th></th>\n",
       "      <th>smaller</th>\n",
       "      <th>bigger</th>\n",
       "      <th>small_minus_big</th>\n",
       "      <th>small_is_better</th>\n",
       "    </tr>\n",
       "    <tr>\n",
       "      <th>fund_num</th>\n",
       "      <th></th>\n",
       "      <th></th>\n",
       "      <th></th>\n",
       "      <th></th>\n",
       "    </tr>\n",
       "  </thead>\n",
       "  <tbody>\n",
       "    <tr>\n",
       "      <th>292.00000</th>\n",
       "      <td>0.00218</td>\n",
       "      <td>-0.03436</td>\n",
       "      <td>0.03654</td>\n",
       "      <td>True</td>\n",
       "    </tr>\n",
       "    <tr>\n",
       "      <th>657.00000</th>\n",
       "      <td>0.01892</td>\n",
       "      <td>-0.00704</td>\n",
       "      <td>0.02596</td>\n",
       "      <td>True</td>\n",
       "    </tr>\n",
       "    <tr>\n",
       "      <th>709.00000</th>\n",
       "      <td>0.01114</td>\n",
       "      <td>0.00842</td>\n",
       "      <td>0.00272</td>\n",
       "      <td>True</td>\n",
       "    </tr>\n",
       "  </tbody>\n",
       "</table>\n",
       "</div>"
      ],
      "text/plain": [
       "           smaller   bigger  small_minus_big  small_is_better\n",
       "fund_num                                                     \n",
       "292.00000  0.00218 -0.03436          0.03654             True\n",
       "657.00000  0.01892 -0.00704          0.02596             True\n",
       "709.00000  0.01114  0.00842          0.00272             True"
      ]
     },
     "execution_count": 23,
     "metadata": {},
     "output_type": "execute_result"
    }
   ],
   "source": [
    "df3 = aggregated_df.groupby(['fund_num','inter_temporal_size'])['monthly_return'].mean().unstack()\n",
    "df3.columns = ['smaller','bigger']\n",
    "df3['small_minus_big'] = df3.smaller - df3.bigger\n",
    "df3['small_is_better'] = df3['smaller'] > df3['bigger']\n",
    "df3.head(3)"
   ]
  },
  {
   "cell_type": "markdown",
   "metadata": {},
   "source": [
    "On average, funds have a higher average return when they are smaller is greater than when they are bigger:"
   ]
  },
  {
   "cell_type": "code",
   "execution_count": 24,
   "metadata": {},
   "outputs": [
    {
     "data": {
      "image/png": "[encoded data removed]",
      "text/plain": [
       "<Figure size 432x288 with 1 Axes>"
      ]
     },
     "metadata": {},
     "output_type": "display_data"
    }
   ],
   "source": [
    "summary_stats = df3[['smaller','bigger']].mean()\n",
    "summary_stats = pd.DataFrame(summary_stats,columns=['mean_return']).reset_index()\n",
    "sns.barplot(data=summary_stats,x='index',y='mean_return')\n",
    "plt.title('Mean Return of Funds by Size')\n",
    "plt.xlabel('Inter-Temporal Size');"
   ]
  },
  {
   "cell_type": "markdown",
   "metadata": {},
   "source": [
    "But, a higher number of funds do have higher average returns when they are larger:"
   ]
  },
  {
   "cell_type": "code",
   "execution_count": 25,
   "metadata": {},
   "outputs": [
    {
     "data": {
      "image/png": "[encoded data removed]",
      "text/plain": [
       "<Figure size 432x288 with 1 Axes>"
      ]
     },
     "metadata": {},
     "output_type": "display_data"
    }
   ],
   "source": [
    "sns.countplot(data=df3,x='small_is_better')\n",
    "plt.title('Count of Funds That Perform Better When Small')\n",
    "plt.xlabel('Small_Better_Than_Big');"
   ]
  }
 ],
 "metadata": {
  "colab": {
   "collapsed_sections": [],
   "name": "HW2.ipynb",
   "provenance": []
  },
  "interpreter": {
   "hash": "2647ea34e536f865ab67ff9ddee7fd78773d956cec0cab53c79b32cd10da5d83"
  },
  "kernelspec": {
   "display_name": "Python 3",
   "language": "python",
   "name": "python3"
  },
  "language_info": {
   "codemirror_mode": {
    "name": "ipython",
    "version": 3
   },
   "file_extension": ".py",
   "mimetype": "text/x-python",
   "name": "python",
   "nbconvert_exporter": "python",
   "pygments_lexer": "ipython3",
   "version": "3.8.8"
  }
 },
 "nbformat": 4,
 "nbformat_minor": 1
}
